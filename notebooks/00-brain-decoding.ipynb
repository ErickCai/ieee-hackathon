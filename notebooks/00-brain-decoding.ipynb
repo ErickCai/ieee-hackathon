{
 "cells": [
  {
   "cell_type": "markdown",
   "metadata": {},
   "source": [
    "# studying the brain with naturalistic stimuli\n",
    "[Functional magnetic resonance imaging (fMRI)](https://en.wikipedia.org/wiki/Functional_magnetic_resonance_imaging) offers a way to non-invasively record activity throughout the brain in human subjects. It can take tens of thousands of measurements from small (~1-2 mm$^3$) regions of the brain (**voxels**) evey few seconds. Our lab uses this technology to study the brain while people do things that resemble normal human activities. Data from experiments using these \"naturalistic\" stimuli can tell us things about the brain that are hard to learn from highly synthetic stimuli and behaviors, but can be challenging to analyze.\n",
    "\n",
    "You're about to work with data collected for a recent experiment performed in our lab. We had subjects do something that comes very naturally to people: listen to stories. One great source for stories is the [The Moth Radio Hour](https://themoth.org/). Since 2009, the show has featured engaging speakers telling personal stories about a wide variety of topics.\n",
    "\n",
    "# understanding the brain through encoding models\n",
    "Subjects lay down in the scanner and listened to hours of stories over the course of several sessions while we recorded their brain activity. We analyzed the data using an **encoding model**, that is, a model that takes the stimulus features as input and produces a prediction of brain activity. This result was published in [Huth et al. 2016](http://www.nature.com/nature/journal/v532/n7600/full/nature17637.html).\n",
    "\n",
    "# decoding the brain\n",
    "## example: direct decoding\n",
    "It is also useful to be able to predict the stimulus from the brain activity, often referred to as **brain decoding**. We have tried several methods of brain decoding in our lab with varying degrees of success. Here we show an example in which we simply swap the inputs to the linear model used to perform encoding. That is, whereas in the encoding model we learn linear weights to predict responses from stimuli, in this decoding model (which we refer to as **direct decoding**) we learn linear weights to predict stimuli from the responses. The results are so-so, but should give you an idea for baseline performance against which you can gauge your decoder's success.\n",
    "\n",
    "We'll split the data into a training and test set, fit the direct decoding on the training set and see how it performs on the test set."
   ]
  },
  {
   "cell_type": "code",
   "execution_count": 3,
   "metadata": {
    "ExecuteTime": {
     "end_time": "2016-10-05T16:28:43.162865",
     "start_time": "2016-10-05T16:28:43.157672"
    },
    "collapsed": false
   },
   "outputs": [],
   "source": [
    "# add some useful code to your python path\n",
    "import sys, os\n",
    "import os.path as op\n",
    "sys.path.append(op.join(os.getcwd(), op.pardir, 'src'))"
   ]
  },
  {
   "cell_type": "code",
   "execution_count": 4,
   "metadata": {
    "ExecuteTime": {
     "end_time": "2016-10-05T16:28:44.409378",
     "start_time": "2016-10-05T16:28:44.223123"
    },
    "collapsed": false
   },
   "outputs": [],
   "source": [
    "import numpy as np\n",
    "import h5py\n",
    "\n",
    "from matplotlib import pyplot as plt\n",
    "%matplotlib inline\n",
    "try: plt.style.use('ggplot')\n",
    "except: pass"
   ]
  },
  {
   "cell_type": "markdown",
   "metadata": {},
   "source": [
    "# story names"
   ]
  },
  {
   "cell_type": "code",
   "execution_count": 5,
   "metadata": {
    "ExecuteTime": {
     "end_time": "2016-10-05T16:28:45.587352",
     "start_time": "2016-10-05T16:28:45.580832"
    },
    "collapsed": false
   },
   "outputs": [],
   "source": [
    "train_stories = ['alternateithicatom', 'avatar', 'howtodraw', 'legacy',\n",
    "                 'life', 'myfirstdaywiththeyankees', 'naked',\n",
    "                 'odetostepfather', 'souls']\n",
    "\n",
    "test_stories = ['undertheinfluence']\n",
    "all_stories = train_stories + test_stories"
   ]
  },
  {
   "cell_type": "markdown",
   "metadata": {},
   "source": [
    "# computing stimulus features\n",
    "The stimuli are stored as [`TextGrid`](http://www.fon.hum.uva.nl/praat/manual/TextGrid.html) files, which is basically a list of words and time stamps for when they occur. We have some helper functions to parse these into a useable format."
   ]
  },
  {
   "cell_type": "code",
   "execution_count": 6,
   "metadata": {
    "ExecuteTime": {
     "end_time": "2016-10-05T16:28:47.584103",
     "start_time": "2016-10-05T16:28:46.700744"
    },
    "collapsed": false
   },
   "outputs": [],
   "source": [
    "from stimulus_utils import load_grids_for_stories, load_generic_trfiles\n",
    "grids = load_grids_for_stories(all_stories, grid_dir=op.join(op.pardir, 'data/grids'))\n",
    "trfiles = load_generic_trfiles(all_stories, root=op.join(op.pardir, 'data/trfiles'))"
   ]
  },
  {
   "cell_type": "code",
   "execution_count": 7,
   "metadata": {
    "ExecuteTime": {
     "end_time": "2016-10-05T16:28:47.696618",
     "start_time": "2016-10-05T16:28:47.585750"
    },
    "collapsed": false
   },
   "outputs": [],
   "source": [
    "from dsutils import make_word_ds, make_word2vec_model\n",
    "wordseqs = make_word_ds(grids, trfiles) # dictionary of {storyname : word DataSequence}"
   ]
  },
  {
   "cell_type": "markdown",
   "metadata": {},
   "source": [
    "## semantic vectors\n",
    "The 2016 paper used a custom word embedding space to generate features from the stimuli. Around the same time the paper came out, [`word2vec`](https://www.tensorflow.org/versions/r0.9/tutorials/word2vec/index.html) hit the streets, and it seems to work just about as well. For generality, we'll use `word2vec` as a feature space for our stimuli. You can download [a pre-trained model from Google](https://drive.google.com/file/d/0B7XkCwpI5KDYNlNUTTlSS21pQmM/edit?usp=sharing).\n",
    "\n",
    "You'll also need to install the python module [`gensim`](https://radimrehurek.com/gensim/) to load and use the model."
   ]
  },
  {
   "cell_type": "code",
   "execution_count": 7,
   "metadata": {
    "ExecuteTime": {
     "end_time": "2016-10-05T15:52:05.611751",
     "start_time": "2016-10-05T15:52:05.608508"
    },
    "collapsed": true
   },
   "outputs": [],
   "source": [
    "## uncomment and run to install\n",
    "# !python pip install gensim"
   ]
  },
  {
   "cell_type": "code",
   "execution_count": 8,
   "metadata": {
    "ExecuteTime": {
     "end_time": "2016-10-05T16:31:15.859144",
     "start_time": "2016-10-05T16:29:10.143900"
    },
    "collapsed": false
   },
   "outputs": [],
   "source": [
    "# download pre-trained model, unzip, and add the path here\n",
    "semantic_model_path = '/tmp/GoogleNews-vectors-negative300.bin.gz'\n",
    "\n",
    "from gensim.models.word2vec import Word2Vec\n",
    "semantic_model = Word2Vec.load_word2vec_format(semantic_model_path,\n",
    "                                               binary=True)"
   ]
  },
  {
   "cell_type": "code",
   "execution_count": 9,
   "metadata": {
    "ExecuteTime": {
     "end_time": "2016-10-05T16:31:15.942922",
     "start_time": "2016-10-05T16:31:15.860722"
    },
    "collapsed": false
   },
   "outputs": [],
   "source": [
    "semanticseqs = dict() # dictionary to hold projected stimuli {story name : projected DataSequence}\n",
    "for story in all_stories:\n",
    "    semanticseqs[story] = make_word2vec_model(wordseqs[story], semantic_model)"
   ]
  },
  {
   "cell_type": "code",
   "execution_count": 10,
   "metadata": {
    "ExecuteTime": {
     "end_time": "2016-10-05T16:31:16.959033",
     "start_time": "2016-10-05T16:31:15.944504"
    },
    "collapsed": false
   },
   "outputs": [],
   "source": [
    "interptype = 'lanczos'\n",
    "downsampled_semanticseqs = dict() # dictionary to hold downsampled stimuli\n",
    "for story in all_stories:\n",
    "    downsampled_semanticseqs[story] = semanticseqs[story].chunksums(interptype, window=3)"
   ]
  },
  {
   "cell_type": "markdown",
   "metadata": {},
   "source": [
    "we trim ~20 seconds from the beginning and the end to remove artifacts from our detrending method"
   ]
  },
  {
   "cell_type": "code",
   "execution_count": 11,
   "metadata": {
    "ExecuteTime": {
     "end_time": "2016-10-05T16:31:16.963600",
     "start_time": "2016-10-05T16:31:16.960527"
    },
    "collapsed": true
   },
   "outputs": [],
   "source": [
    "trim = [10,10]\n",
    "stimuli = {st:downsampled_semanticseqs[st][trim[0]:-trim[1]]\n",
    "           for st in all_stories}"
   ]
  },
  {
   "cell_type": "markdown",
   "metadata": {},
   "source": [
    "## save stimulus features"
   ]
  },
  {
   "cell_type": "code",
   "execution_count": 12,
   "metadata": {
    "ExecuteTime": {
     "end_time": "2016-10-05T16:31:30.308438",
     "start_time": "2016-10-05T16:31:30.291673"
    },
    "collapsed": true
   },
   "outputs": [],
   "source": [
    "with h5py.File(op.join(op.pardir, 'data/features.h5'), 'w') as f:\n",
    "    for story in stimuli:\n",
    "        f[story] = stimuli[story]"
   ]
  },
  {
   "cell_type": "markdown",
   "metadata": {},
   "source": [
    "## load pre-computed stimulus features\n",
    "If you want to concentrate your efforts on decoding instead of designing features, you can download our pre-computed `word2vec` features by running the `download_features.sh` script."
   ]
  },
  {
   "cell_type": "code",
   "execution_count": null,
   "metadata": {
    "ExecuteTime": {
     "end_time": "2016-10-05T16:31:40.681788",
     "start_time": "2016-10-05T16:31:38.405489"
    },
    "collapsed": false
   },
   "outputs": [],
   "source": [
    "## uncomment and run to download\n",
    "#!bash ../download_features.sh"
   ]
  },
  {
   "cell_type": "code",
   "execution_count": 14,
   "metadata": {
    "ExecuteTime": {
     "end_time": "2016-10-05T16:31:55.568139",
     "start_time": "2016-10-05T16:31:55.554933"
    },
    "collapsed": false
   },
   "outputs": [],
   "source": [
    "with h5py.File(op.join(op.pardir, 'data/features.h5'), 'r') as f:\n",
    "    stimuli = {st:f[st].value for st in f}"
   ]
  },
  {
   "cell_type": "code",
   "execution_count": 15,
   "metadata": {
    "ExecuteTime": {
     "end_time": "2016-10-05T16:31:56.617790",
     "start_time": "2016-10-05T16:31:56.601475"
    },
    "collapsed": true
   },
   "outputs": [],
   "source": [
    "from ridge.utils import zscore"
   ]
  },
  {
   "cell_type": "code",
   "execution_count": 16,
   "metadata": {
    "ExecuteTime": {
     "end_time": "2016-10-05T16:31:57.388497",
     "start_time": "2016-10-05T16:31:57.371137"
    },
    "collapsed": false
   },
   "outputs": [],
   "source": [
    "Xtrain = np.vstack([zscore(stimuli[story], 0)\n",
    "                    for story in train_stories])\n",
    "Xtest = np.vstack([zscore(stimuli[story], 0)\n",
    "                    for story in test_stories])"
   ]
  },
  {
   "cell_type": "markdown",
   "metadata": {},
   "source": [
    "`Xtrain` and `Xtest` contain the training and test stimulus information. The dimensions are time points x word embedding space dimensions."
   ]
  },
  {
   "cell_type": "code",
   "execution_count": 17,
   "metadata": {
    "ExecuteTime": {
     "end_time": "2016-10-05T16:31:59.127628",
     "start_time": "2016-10-05T16:31:59.123066"
    },
    "collapsed": false
   },
   "outputs": [
    {
     "name": "stdout",
     "output_type": "stream",
     "text": [
      "(3433, 300) (304, 300)\n"
     ]
    }
   ],
   "source": [
    "print Xtrain.shape, Xtest.shape"
   ]
  },
  {
   "cell_type": "markdown",
   "metadata": {},
   "source": [
    "# responses\n",
    "We've preprocessed the neural data to save you time. If you haven't run the shell script `download_responses.sh` already, do so now."
   ]
  },
  {
   "cell_type": "code",
   "execution_count": null,
   "metadata": {
    "ExecuteTime": {
     "end_time": "2016-10-05T16:33:38.380079",
     "start_time": "2016-10-05T16:32:40.730614"
    },
    "collapsed": false
   },
   "outputs": [],
   "source": [
    "## uncomment and run to download\n",
    "#!bash ../download_responses.sh"
   ]
  },
  {
   "cell_type": "code",
   "execution_count": null,
   "metadata": {
    "ExecuteTime": {
     "end_time": "2016-10-05T16:33:43.979713",
     "start_time": "2016-10-05T16:33:40.075419"
    },
    "collapsed": false
   },
   "outputs": [],
   "source": [
    "Ytrain = []\n",
    "Ytest = []\n",
    "with h5py.File(op.join(op.pardir, 'data/responses.h5'), 'r') as f:\n",
    "    for story in train_stories:\n",
    "        Ytrain.append(zscore(f[story].value))\n",
    "    for story in test_stories:\n",
    "        Ytest.append(zscore(f[story].value))\n",
    "Ytrain = np.nan_to_num(np.vstack(Ytrain))\n",
    "Ytest = np.nan_to_num(np.vstack(Ytest))"
   ]
  },
  {
   "cell_type": "markdown",
   "metadata": {},
   "source": [
    "`Ytrain` and `Ytest` contain the training and test response data from one subject. The dimensions are time points x voxels. The sampling period in our fMRI experiments is **2.0045 seconds**."
   ]
  },
  {
   "cell_type": "code",
   "execution_count": 22,
   "metadata": {
    "ExecuteTime": {
     "end_time": "2016-10-05T16:33:47.206945",
     "start_time": "2016-10-05T16:33:47.202364"
    },
    "collapsed": false
   },
   "outputs": [
    {
     "name": "stdout",
     "output_type": "stream",
     "text": [
      "(3433, 92836) (304, 92836)\n"
     ]
    }
   ],
   "source": [
    "print Ytrain.shape, Ytest.shape"
   ]
  },
  {
   "cell_type": "markdown",
   "metadata": {},
   "source": [
    "The biological signal measured my fMRI is slow to respond to the underlying neural activity that causes it. For this reason, information about the stimulus is available in the responses observed several seconds after the stimulus actually occurs. We delay the responses so that we are predicting the stimulus at each time point from the responses of all voxels from 2 to 8 seconds prior."
   ]
  },
  {
   "cell_type": "code",
   "execution_count": 23,
   "metadata": {
    "ExecuteTime": {
     "end_time": "2016-10-05T16:33:51.542823",
     "start_time": "2016-10-05T16:33:50.962641"
    },
    "collapsed": false
   },
   "outputs": [],
   "source": [
    "from ridge.utils import make_delayed\n",
    "delays = [-3]\n",
    "delYtrain = make_delayed(Ytrain, delays)\n",
    "delYtest = make_delayed(Ytest, delays)"
   ]
  },
  {
   "cell_type": "markdown",
   "metadata": {},
   "source": [
    "# Sample decoding: direct decoding\n",
    "To fit this model we use L2-regularized (or ridge) regression. Some optimized code is available from [Alex Huth's github page](https://github.com/alexhuth/ridge.git)\n",
    "\n",
    "Even fully optimized, this can take a long time to run (and time is of the essence!) so you can download prefit weights by running the script `download_model.sh`."
   ]
  },
  {
   "cell_type": "code",
   "execution_count": 24,
   "metadata": {
    "ExecuteTime": {
     "end_time": "2016-10-05T16:33:55.110660",
     "start_time": "2016-10-05T16:33:55.098678"
    },
    "collapsed": false
   },
   "outputs": [
    {
     "name": "stdout",
     "output_type": "stream",
     "text": [
      "saving model to ../models/bsridge-directdecoding-alphas2to4-nboots10.h5\n"
     ]
    }
   ],
   "source": [
    "alpha_range = [2,4]\n",
    "alphs = np.logspace(*alpha_range, num=15)\n",
    "nboots = 10 # Number of cross-validation runs.\n",
    "chunklen = 40 # \n",
    "nchunks = 20\n",
    "\n",
    "model_dir = op.join(op.pardir, 'models')\n",
    "model_path_fmt = os.path.join(model_dir, 'bsridge-directdecoding'\n",
    "                              '-alphas{alpha_lo}to{alpha_hi}'\n",
    "                              '-nboots{nboots}.h5').format\n",
    "\n",
    "model_path = model_path_fmt(alpha_lo=alpha_range[0], alpha_hi=alpha_range[1],\n",
    "                            nboots=nboots)\n",
    "print 'saving model to', model_path"
   ]
  },
  {
   "cell_type": "markdown",
   "metadata": {},
   "source": [
    "### run ridge regression"
   ]
  },
  {
   "cell_type": "code",
   "execution_count": null,
   "metadata": {
    "collapsed": true
   },
   "outputs": [],
   "source": [
    "from ridge import bootstrap_ridge\n",
    "\n",
    "wt, corr, alphas, bscorrs, valinds = bootstrap_ridge(delYtrain, Xtrain,\n",
    "                                                     delYtest, Xtest,\n",
    "                                                     alphs, nboots,\n",
    "                                                     chunklen, nchunks,\n",
    "                                                     singcutoff=1e-10,\n",
    "                                                     single_alpha=False,\n",
    "                                                     use_corr=False)"
   ]
  },
  {
   "cell_type": "code",
   "execution_count": 67,
   "metadata": {
    "ExecuteTime": {
     "end_time": "2016-10-05T15:18:15.265582",
     "start_time": "2016-10-05T14:50:51.352611"
    },
    "collapsed": false
   },
   "outputs": [],
   "source": [
    "with h5py.File(model_path, 'w') as f:\n",
    "    f['wt'] = wt\n",
    "    f['alphas'] = alphas"
   ]
  },
  {
   "cell_type": "markdown",
   "metadata": {},
   "source": [
    "### load previously run ridge regression parameters"
   ]
  },
  {
   "cell_type": "code",
   "execution_count": null,
   "metadata": {
    "collapsed": true
   },
   "outputs": [],
   "source": [
    "# uncomment and run to download\n",
    "!bash ../download_model.sh\n",
    "model_path = op.join(op.pardir, 'models/bsridge-directdecoding-alphas2to4-nboots10.h5')"
   ]
  },
  {
   "cell_type": "code",
   "execution_count": 38,
   "metadata": {
    "ExecuteTime": {
     "end_time": "2016-10-05T16:36:42.071896",
     "start_time": "2016-10-05T16:36:42.046761"
    },
    "collapsed": false
   },
   "outputs": [],
   "source": [
    "with h5py.File(model_path, 'r') as f:\n",
    "    wt = f['wt'].value\n",
    "    alphas = f['alphas'].value"
   ]
  },
  {
   "cell_type": "markdown",
   "metadata": {},
   "source": [
    "### predicting embedding vectors"
   ]
  },
  {
   "cell_type": "code",
   "execution_count": null,
   "metadata": {
    "ExecuteTime": {
     "end_time": "2016-10-05T16:36:44.034007",
     "start_time": "2016-10-05T16:36:43.768349"
    },
    "collapsed": false
   },
   "outputs": [],
   "source": [
    "Xhat = delYtest.dot(wt)\n",
    "ntrials_test = delYtest.shape[0]\n",
    "\n",
    "decoding_perf = np.empty(ntrials_test)\n",
    "for i in xrange(ntrials_test):\n",
    "    decoding_perf[i] = np.corrcoef(Xhat[i,:], Xtest[i,:])[0,1]"
   ]
  },
  {
   "cell_type": "markdown",
   "metadata": {},
   "source": [
    "### De-embedding words\n",
    "The direct decoding provides us with decoded word embedding vectors, but we actually want to decode the words that the subject heard. We consider the decoded embedding vectors to be the sum of the embedding vectors from the words that we presented and use L1-regularized regression to estimate the sparse matrix of word activations that led to the word embedding vectors. We'll use L1-regularized (LASSO) regression from the [`sklearn`](http://scikit-learn.org/stable/) python package to do this. You can use `pip` to install it.\n",
    "\n",
    "The vocabulary we'll decode into is provided by wikipedia's list of [1,000 most common english words](https://en.wiktionary.org/wiki/Category:1000_English_basic_words) (at the time we scraped them, there were actually 985 words). To save you time, we've included the list in a text file named `basis_vocabulary.txt`."
   ]
  },
  {
   "cell_type": "code",
   "execution_count": 70,
   "metadata": {
    "ExecuteTime": {
     "end_time": "2016-10-05T15:30:58.239731",
     "start_time": "2016-10-05T15:30:58.235615"
    },
    "collapsed": true
   },
   "outputs": [],
   "source": [
    "## uncomment and run to install sklearn\n",
    "# !pip install sklearn"
   ]
  },
  {
   "cell_type": "code",
   "execution_count": 40,
   "metadata": {
    "ExecuteTime": {
     "end_time": "2016-10-05T16:36:56.886173",
     "start_time": "2016-10-05T16:36:56.863818"
    },
    "collapsed": false
   },
   "outputs": [],
   "source": [
    "basis_vocab = np.loadtxt('basis_vocabulary.txt', str)\n",
    "basis_vocab_vectors = np.empty((basis_vocab.size, semantic_model.vector_size))\n",
    "for wi, word in enumerate(basis_vocab):\n",
    "    try:\n",
    "        vec = semantic_model[word]\n",
    "    except KeyError:\n",
    "        vec = np.zeros(semantic_model.vector_size)\n",
    "    basis_vocab_vectors[wi,:] = vec"
   ]
  },
  {
   "cell_type": "code",
   "execution_count": 41,
   "metadata": {
    "ExecuteTime": {
     "end_time": "2016-10-05T16:36:57.636001",
     "start_time": "2016-10-05T16:36:57.631820"
    },
    "collapsed": false
   },
   "outputs": [
    {
     "name": "stdout",
     "output_type": "stream",
     "text": [
      "(985, 300) (304, 300)\n"
     ]
    }
   ],
   "source": [
    "print basis_vocab_vectors.shape, Xhat.shape"
   ]
  },
  {
   "cell_type": "code",
   "execution_count": 42,
   "metadata": {
    "ExecuteTime": {
     "end_time": "2016-10-05T16:37:03.386157",
     "start_time": "2016-10-05T16:36:58.504131"
    },
    "collapsed": false
   },
   "outputs": [],
   "source": [
    "from sklearn.linear_model import Lasso\n",
    "\n",
    "lasso = Lasso(alpha=0.001, positive=True)\n",
    "lasso.fit(basis_vocab_vectors.T, Xhat.T)\n",
    "\n",
    "decoded_words = lasso.coef_"
   ]
  },
  {
   "cell_type": "markdown",
   "metadata": {},
   "source": [
    "# Results\n",
    "The output for this simple example will just be a list of words that were deemed most likely to have been present in the original story. That is, we made no attempt to impose correct syntax on the output.\n",
    "\n",
    "Let's look at the original and decoded text side-by-side. You'll notice a few times where the decoded output comes close to the thematic content of the original, but overall it's not very convincing. We hope you can do better!"
   ]
  },
  {
   "cell_type": "code",
   "execution_count": 45,
   "metadata": {
    "ExecuteTime": {
     "end_time": "2016-10-05T16:40:19.353454",
     "start_time": "2016-10-05T16:40:19.295073"
    },
    "collapsed": false
   },
   "outputs": [
    {
     "name": "stdout",
     "output_type": "stream",
     "text": [
      "0 i don't ::: is want kind this be anything something god how seem\n",
      "1 do it to protect the innocent because i don't know any ::: want may anything not nature is kind hate god fun\n",
      "2 stories where the people in them are innocent ::: be nature people is kind sad may special city say\n",
      "3 and i don't do it to be shocking ::: be nature say sad such sound may yes music school\n",
      "4 either though i admit to ::: i too how lesson sad enjoy what always am possible\n",
      "5 to once telling a story ::: you i say thing she kind how should may always\n",
      "6 where i exaggerated the length of my penis ::: her special everybody bird raise music boy hobby report depend\n",
      "7  ::: mother student evening report music study boy chocolate flower fever\n",
      "8 in my own defense i exaggerated down and not ::: city will woman nature fear parent be fever school science\n",
      "9 up and i did it for the laughs ::: if is sweet seem parent story miss say must are\n",
      "10 you ::: be seem should she parent if sing thing miss difficult\n",
      "11 the story i'm telling you tonight does not ::: be wish why person learn she write excited i parent\n",
      "12 have a lie in it ::: i will me glad write happen take tomorrow agree she\n",
      "13 or many laughs for that matter ::: i probably say she me something am letter glad really\n",
      "14 when i'm done telling you this story you may think it's nothing ::: i really probably should what she may you say thing\n",
      "15 but a lie but i'd ask you to trust ::: i we something very should really be why you what\n",
      "16 me on this ::: clothes shoe\n",
      "17 at the age of nineteen i fell prey ::: shoe coat chair clothes brown sand heavy orange body east\n",
      "18 to a powerful and deeply ::: structure heavy elephant substance report shirt body market furniture police\n",
      "19 corrupting influence ::: bright machine shirt potato structure head weak sound noise strong\n",
      "20 it dogged me for six years ::: produce at net by bright extremely heavy base are station\n",
      "21 costing me many a friend and in process ::: event telephone fresh office week an man report middle increase\n",
      "22 bringing my family to ruin ::: pair hammer east join rubber copper fold shoulder top office\n",
      "23 it crippled me ::: down pair hammer arrive finish ten fold morning front clothes\n",
      "24 to such an extent that i have spent the intervening ::: hundred several position ten shirt finish clothes down pair morning\n",
      "25 fifteen years recovering from it ::: nine position ago shirt several pair half ball lately team\n",
      "26 the influence ::: \n",
      "27 i speak of is hope ::: \n",
      "28  ::: \n",
      "29 now you should know at the get ::: \n",
      "30 go there's nothing in my childhood to ::: never you yet have either is know enemy who correct\n",
      "31 suggest i might find myself on such a wayward ::: yet either who enemy substance already active by power sex\n",
      "32 path as that ::: thin substance object\n",
      "33 my parents loved me terribly they ::: active position nature therefore who question thin such sentence number\n",
      "34 taught me right from wrong ::: active past nature sentence poison examination skill substance oil\n",
      "35 they taught me to be courageous in the face ::: examination\n",
      "36 of bullies they taught me patience ::: \n",
      "37 and forgiveness they taught ::: i comb\n",
      "38 me that love would see you through ::: how have position never thin nor size question these wide\n",
      "39 any misfortune ::: \n",
      "40 my trouble began on ::: examination\n",
      "41 independence day not the ::: have i the we how since nor never should is\n",
      "42 independence day but my independence day ::: the have who since yet examination position nor are fast\n",
      "43 my independence day occurred on memorial ::: five nine across from north century past search class above\n",
      "44 day nineteen eighty two that was the day i ::: nine pair chair past female across century over male length\n",
      "45 told my family i was gay ::: chair prince pink coat bedroom pair male neck ruler photograph\n",
      "46 the act itself ::: shout spoon hair lip prince soft cupboard coat tall star\n",
      "47 mom dad i'm gay ::: know shout you i listen easy worry fail clever please\n",
      "48 was relatively unexceptional ::: i know listen easy write your wonder not nor understand\n",
      "49 in fact it should have been ::: you not about talk any real is type how nature\n",
      "50 more exceptional and i've always sort of wished ::: not kind know if how thin polite behave easy dirty\n",
      "51 that it had been however ::: thin\n",
      "52 subsequent events overshadowed ::: \n",
      "53 it and it pales by comparison ::: \n",
      "54 the subsequent events occurred ::: your i position our order question understand how best method\n",
      "55 in my absence after the fact as i was ::: my i their is since out grandfather show stay home\n",
      "56 in my car driving back to college ::: over month seven east from join five home nine evening\n",
      "57 to take my final freshman exams ::: five home join its month hour evening over children collect\n",
      "58 i remember being on the highway and thinking ::: down sure we put i watch door me let everybody\n",
      "59 how you know i kind of expected my parents ::: know i you something think do easy anything really want\n",
      "60 to freak out a little and you ::: know do you i think something what really easy anything\n",
      "61 know to my surprise they had not freaked out ::: you know if really anything how kind little want something\n",
      "62 they'd been calm and cool and collected ::: you too behave know fun laugh want always dirty often\n",
      "63 oddly calm ::: i know you too understand hello seem funny afraid behave\n",
      "64 cool and collected but still i was really ::: i\n",
      "65 happy as i drove back to school ::: i library\n",
      "66 meanwhile subsequent events were busy unfolding ::: entrance bright green chair photograph model library student visit structure\n",
      "67 back home ::: green on train explain direction chair entrance library friendly search\n",
      "68 my mother was going through the house where i grew ::: your she telephone bridge business police bus smell everybody hall\n",
      "69 up and was gathering together things ::: its police office in shake her an people call road\n",
      "70 i'd made for her um a jewelry box ::: hospital visit threat travel\n",
      "71 when i was in four h and a painting ::: be\n",
      "72 when i was sixteen um ::: \n",
      "73 a box of letters con or a box containing ::: me i thing am something anything music husband hobby goodbye\n",
      "74 the letters that i'd written them from school which ::: i friend sure go me glad sorry you get am\n",
      "75 i used to do every week ::: you i ask mean know worry sorry glad hello bite\n",
      "76 she was removing photographs ::: east hit pull near fork pocket slip back hundred pour\n",
      "77 from the walls and placing them in little piles around the house ::: near nine east float chair desk taxi coin bedroom hour\n",
      "78 and she was directing my father ::: me friend she my i sorry fool hurt knife sure\n",
      "79 who never dared not ::: know i me is he should probably really always everybody\n",
      "80 follow her direction to take ::: will here me one nothing happen put every really people\n",
      "81 the bed and the desk and the chair ::: nine morning at its school east home bedroom tie evening\n",
      "82 and the lamp and the smith corona ::: nine east bedroom pour near rent across branch taxi rob\n",
      "83 my smith corona even and to put them all ::: i bus entrance hit hundred near clothes pour bedroom hers\n",
      "84 in the front yard next ::: float pocket floor tie bag front shoe hit hundred taxi\n",
      "85 to the rock garden not too close to the maple ::: \n",
      "86 tree ::: \n",
      "87 my clothes my books ::: i bedroom village hello taxi morning\n",
      "88 my bookcases ::: bedroom taxi hall visit entrance\n",
      "89 my report cards my ::: pupil i\n",
      "90 farah fawcett posters my shoes ::: village report group substance nor god member newspaper education sex\n",
      "91 three years worth of interview magazines ::: nature report study substance extremely general yet parent science business\n",
      "92 the good ones with the andy warhol covers ::: study nature report substance general modern\n",
      "93 everything ::: \n",
      "94 then with my ::: tell student why town door learn here we everybody visit\n",
      "95 brother and my sister and my grandparents ::: my grandfather hello everybody across sister study member door born\n",
      "96 watching my mother ::: his nine pair arm head pen chair police photograph desk\n",
      "97 removed a cigarette from this tiny crocheted case ::: pair hammer shoulder rubber nearly nine pink iron leaf his\n",
      "98 she always kept them in and she ::: leaf piano thick hammer pour dance float chair pin rubber\n",
      "99 lit the cigarette and then she took the match ::: hit double his shelf pocket dance nose air float sword\n",
      "100 and put it to the pile of things there in the front ::: double shoulder pull sand boil dance wild ice foot sock\n",
      "101 yard that contained the soul ::: how can real you no trust expect fat depend need\n",
      "102 and complete record of my existence ::: that can real else not how me may your true\n",
      "103 in my family ::: know anything easy understand happen think careful not useful afraid\n",
      "104  ::: try happen you win slow next begin tomorrow kill\n",
      "105 it burned for seven and a half hours ::: ten per length its shelf below road pour plastic sail\n",
      "106 thanks in part to the addition of some lighter ::: silly your nearly even hers pull shelf must enough film\n",
      "107 fluid to help get the larger pieces of furniture ::: \n",
      "108 going ::: i\n",
      "109 all of it all that was ::: i yes my cry too glad hers none little really\n",
      "110 me prior to that memorable ::: i ago yes ten my this will hers their here\n",
      "111 memorial day up ::: i nine ten ago bedroom century total daughter prize seat\n",
      "112 in flames according to my sister ::: i my home excited ago hall since cry nine family\n",
      "113 who years later recounted these details ::: i know never we is probably me family ago are\n",
      "114 to me it was a ::: game seven ago spring never one boy last sport terrible\n",
      "115 mighty impressive blaze ::: \n",
      "116 {cg} in ::: pleased\n",
      "117 their eagerness to feed it and ::: really kind not you can here understand into how i\n",
      "118 due to an unexpected wind off the fields ::: on behind into move narrow spring east deep free every\n",
      "119 around the house the sugar maple ::: its in pair middle east over old third across rubber\n",
      "120 that was older than my great grandfather ::: pair nearly its past corner on green across rubber above\n",
      "121 caught a spark in its branches ::: float pair across nearly rubber foot third shoulder ice corner\n",
      "122 and was sacrificed ::: float wire net rubber\n",
      "123  ::: \n",
      "124 they cut off all communication ::: i chair\n",
      "125 with me they emptied and ::: his back home join after near gate board front morning\n",
      "126 closed our joint bank account ::: five home past children his month middle after at office\n",
      "127 there goes college ::: seven wife nine evening join ago office village school home\n",
      "128 they barred the door they ::: nine wife home school evening son branch join pupil ago\n",
      "129 stopped talking stopped answering ::: him join ago he stay son am hour speak member\n",
      "130 my letters stopped taking my calls they stopped ::: \n",
      "131 anything with me they just ::: \n",
      "132 stopped ::: \n",
      "133 i was ::: \n",
      "134 completely disbelieving i mean this didn't ::: i\n",
      "135 make any sense uh all of my friends ::: i my husband wife student pupil education science skin office\n",
      "136 had you know stories about telling their families they were ::: she may my in that about children any say always\n",
      "137 gay and they all ended the same way sooner or later ::: never think should we i may be nothing people important\n",
      "138 everything worked out fine so ::: i pleased\n",
      "139 i even had a friend named neil whose ::: library\n",
      "140 parents had done the same thing you know at first they just ::: my what i why we she very say entrance may\n",
      "141 stopped talking to him but ::: my i you she about here look afraid in everybody\n",
      "142 one year later they were inviting his ::: my your next seven into telephone on daughter i silver\n",
      "143 new boyfriend to come home with him for the holidays ::: her at home grandfather his off hit children my invite\n",
      "144 everyone counseled ::: you who she him glad let ask children tell month\n",
      "145 me to have a little patience ::: me think i yet be we he pretty everybody try\n",
      "146 and have a little hope ::: \n",
      "147 and this is how it ::: i understand what mean therefore may if think you correct\n",
      "148 starts slowly just a ::: how i mean understand nature correct wonder may useful sorry\n",
      "149 little hope just enough to get you through ::: useful\n",
      "150 but hope ::: are nature result report must period amount key measure may\n",
      "151 is cumulative a little bit ::: yet nature produce more that expect measure period certain key\n",
      "152 here and a little bit there it builds ::: nature substance key produce useful prevent power thin mix measure\n",
      "153 up in the system until it becomes something toxic ::: substance nature thin structure modern skin key plastic leaf oil\n",
      "154 denial ::: nature substance thin object measure depend leaf letter useful method\n",
      "155 i mean ::: nature useful method behave thin sweet clever substance soft depend\n",
      "156 their reaction had been yes ::: how you think real should is why may amount anyone\n",
      "157 extreme but not the worst that could happen ::: know we anything why do may should is extremely true\n",
      "158 the thing to do was to be a good son ::: always really if not know do anything never useful should\n",
      "159 to make them proud to ::: we always should think really know useful him do but\n",
      "160 earn back their love ::: my position off friend ladder her flat your student shoot\n",
      "161 so i got a job and ::: his ten home collect join pair school top office her\n",
      "162 then another and then a third three shifts ::: his join east its nine collect home on library pair\n",
      "163 three restaurants ::: pair home near join morning off collect below climb plate\n",
      "164 six days a week that ::: hour visit enter join ladder collect basket slip\n",
      "165 would show them ::: join receive collect visit\n",
      "166 but they weren't watching ::: hammer chase slip rob ball brother game fork shirt dinner\n",
      "167 i wrote them ::: rice shirt\n",
      "168 letters lots of letters ::: village\n",
      "169 about nothing you know it's uh tuesday ::: football furniture pupil\n",
      "170 and it's hot or my new roommate ::: his question star male who pair spring have cupboard past\n",
      "171 is named kathy ::: his five free middle male brush month old coat famous\n",
      "172 or my friends took me out for my birthday yesterday ::: his ten month male her aunt bedroom bath prince pair\n",
      "173 they ::: i\n",
      "174 didn't write back ::: i her gate floor enter search my hall entrance second\n",
      "175 living for me sort of came to a halt ::: my back i down then put walk we outside door\n",
      "176 um despite the fact that my life just ::: on in since into east across ago past open next\n",
      "177 went on and on i didn't think about ::: nearly she since in never several i will be direction\n",
      "178 my future i didn't think about my needs ::: since telephone extremely event from education she science condition by\n",
      "179 i didn't think about my sadness i didn't think about ::: not nothing people understand never is very that about sport\n",
      "180 any of it i didn't have to because i had hope ::: not never really heart nothing yet hate very seem is\n",
      "181 everyday whispering in my ear ::: i nothing think not you how like know really never\n",
      "182 don't give up don't walk away you're ::: i want like not how something voice depend hate happen\n",
      "183 almost there don't stop don't ::: not that be sound word can like hate how i\n",
      "184 grow don't develop don't don't ::: are between grave lip boil usually depend steam across rock\n",
      "185 worry just don't make any sudden movements ::: hammer fever soap pour dance sugar iron piano tea wire\n",
      "186 or you'll blow it {sl} ::: \n",
      "187  ::: \n",
      "188  ::: \n",
      "189 uh so six years ::: \n",
      "190 went on like this without a word from them ::: i ten birth silver\n",
      "191 so finally ::: i ten ago birth\n",
      "192 hurt and confused ::: i my may seven ago save hour about ten we\n",
      "193 beyond my ability to ::: never is may not we about week these period true\n",
      "194 hold it in and frankly finding it really ::: this kind nothing yet fact true enemy therefore sometimes many\n",
      "195 difficult to maintain the illusion that this was temporary ::: may this real is i therefore anything yet nothing nature\n",
      "196 i ::: i think should yet seem nothing true extremely useful therefore\n",
      "197 decided to kind of ::: i\n",
      "198 make one more attempt to ::: i nature science understand\n",
      "199 force the issue so ::: i my this why discover picture job am first about\n",
      "200 i i flew home ::: my her i then at ten grandfather am off him\n",
      "201 and showed up unannounced at my mother's ::: her grandfather his join bedroom ten at office middle morning\n",
      "202 office ::: at her grandfather friend on member student shop chair outside\n",
      "203 it was an amazing visit ::: elephant tea telephone forest\n",
      "204 excuse me {sl} ::: \n",
      "205  ::: \n",
      "206  ::: \n",
      "207 i asked ::: \n",
      "208 the receptionist to ::: \n",
      "209 to page my mother and tell her she had a surprise ::: its library their private general class nearly on large office\n",
      "210 visitor ::: provide list\n",
      "211  ::: desk chair gate\n",
      "212 and i stood there in the lobby {cg} ::: my around front hall down back into entrance sit window\n",
      "213 and i remember seeing my mother come ::: his down my front around her bed shoot over hall\n",
      "214 down this long hallway toward me ::: down her shout you hello me your everybody door bed\n",
      "215 and she was walking and then she ::: shout hello down taxi corner go door chair your walk\n",
      "216 sort of looked up ::: i corner hello bed down front pen entrance silver shout\n",
      "217 and she saw me ::: \n",
      "218 and then she recognized ::: you my hello go everybody down back comfortable door friend\n",
      "219 who it was ::: you hello walk shout go bite your slip east down\n",
      "220 and she turned and walked away ::: you down ball shout expect slip hello hear careful bottom\n",
      "221 again ::: \n",
      "222 it was a really amazing ninety second ::: is sentence per will result month trust seven fever week\n",
      "223 visit ::: nine six week period past month result hour square fever\n",
      "224 two and a half weeks later ::: nine month ten last hundred his finish ago arrive from\n",
      "225 a black funeral wreath ::: nine month second his east in sail round bedroom by\n",
      "226 was delivered to me at my office with a note that ::: his the nine is hit my yesterday shirt home her\n",
      "227 said in memory of our ::: nine by his be shirt woman dead eight month hit\n",
      "228 son ::: \n",
      "229 clearly it was time to ::: i therefore she film it her library which will be\n",
      "230 give up hope and take up therapy ::: not i very think she how never much why wonder\n",
      "231  ::: i pleased\n",
      "232 so i ::: i should she yet how though glad wish provide school\n",
      "233 uh i talked to a counselor who asked ::: i she not how never very glad sorry probably am\n",
      "234 me why i had invited ::: never not how should i is since may much very\n",
      "235 this turmoil into my life ::: never not is should she very how may really music\n",
      "236 i uh i talked to a minister who ::: never is she yet music should her may how really\n",
      "237 suggested a christian youth camp ::: city event nearly seven tennis student children group science dance\n",
      "238 i ::: pupil\n",
      "239  ::: \n",
      "240 i talked to a lesbian ::: sport piano born star shirt who tall potato black coat\n",
      "241 who offered to slash my mother's tires ::: his its will free hit put my science coat dance\n",
      "242 if i'd pay for her flight there ::: on pair across its nearly float chair drive entrance coat\n",
      "243 i signed up for ::: chair on coat across dance desk double float hammer wire\n",
      "244 scream therapy where i beat pillows with tennis ::: on dance rubber chair fresh hammer its coat middle iron\n",
      "245 rackets and screamed obscenities and ::: rubber hand dance rock pair green brush double hammer red\n",
      "246 you know pulled a muscle in my shoulder ::: \n",
      "247 mostly i talked to friends and ::: i\n",
      "248 mostly the pain persisted ::: i\n",
      "249 the sheer ::: i my ago none never remember age sorry quite am\n",
      "250 weight of it nearly crushed me or at ::: i husband my wife\n",
      "251 least that's how it felt at the time ::: i friend my wife daughter library family\n",
      "252 since it was my constant companion ::: i know my we try glad ask why someone friend\n",
      "253 i spent ::: ask someone your glad next my call friend back spend\n",
      "254 most of my time turning it over in my mind ::: fill spend decide send hand hammer receive\n",
      "255 fingering it like ::: fold sun forest fill sword winter begin cap increase market\n",
      "256 some sort of psychological worry stone ::: rubber leaf sand flag forest cap fold narrow\n",
      "257 over ::: \n",
      "258 the years it's been eroded ::: pour steam fold clock gate entrance ice\n",
      "259 by so much handling ::: steam fold clock top thin pour float rubber flag century\n",
      "260 all that remains now is ::: pour\n",
      "261 a small ::: entrance pour desk clock library\n",
      "262 hard nearly weightless pebble ::: pour leaf entrance sun narrow its below thin clock floor\n",
      "263 really worn away ::: i pour clock narrow comb\n",
      "264 is most of the anger and ::: i pour across library ten east clock\n",
      "265 much of the hurt but one question ::: ten i across hundred begin half clock size arrive below\n",
      "266 remains how was it possible ::: we much i may how say little possible see here\n",
      "267 that they taught me love and loyalty ::: you know may is why how if think real anything\n",
      "268 in excess of that which they themselves ::: is this always not anything who these we people think\n",
      "269 possessed ::: are is team event most stay since threat order past\n",
      "270  ::: \n",
      "271 i have come ::: therefore may most person anyone i choice useful sentence wish\n",
      "272 to believe that it's not possible to understand ::: know may we why what should my about is i\n",
      "273 what they did not possible ::: you my we where about think know me let here\n",
      "274 for me anyway to understand ::: east my hello daughter visit aunt back home telephone morning\n",
      "275 it ::: aunt hour school boy hello east visit daughter home children\n",
      "276 would seem to indicate that there ::: know why people never not ago may i are anything\n",
      "277 was some justification for it and i know for ::: know not anything something think is really may always why\n",
      "278 certain that there is not ::: know i anything think do if you sorry fun mean\n",
      "279 still there's ::: i know we want think hate sorry\n",
      "280 no escaping my parents this um ::: know i why never we you anything think mean not\n",
      "281 this thing they did this extreme ::: think yet know is never real lot we happen i\n",
      "282 and unfathomable ::: is true kind yet double think enemy nothing amount hurt\n",
      "283 and many layered thing they did ::: enemy happen kind already ground shoulder steam shine double period\n",
      "284 tore a hole in the middle of my life ::: chair gate floor wheel\n",
      "285 i have spent ::: i taxi bedroom pour\n",
      "286 years and a lot of money ::: four their hundred his door in prince coat pink your\n",
      "287 darning that hole ::: his nearly pair shoulder float eight leaf sharp coat drop\n",
      "288 while trying to keep the rest of ::: nearly third float pair coat lamp leaf shoulder nine rubber\n",
      "289 my world from unraveling ::: nine lamp sheet silver float square total per flat cloth\n",
      "290 and yet their influence ::: his ten chair duck i up minute shoulder\n",
      "291 on me is enduring ::: \n",
      "292  ::: \n",
      "293 my parents loved me terribly ::: chair hello heaven goat photograph god wife prince\n",
      "294 i have been ::: know how me woman anything love real someone father understand\n",
      "295 courageous in the face of bullies ::: real she yet uncle life woman friend him he me\n",
      "296 there is ::: never know is uncle nature must why he anything she\n",
      "297 such a thing as too much patience ::: how who never he kind know someone difficult case member\n",
      "298 but ::: who know him person he yet is nature false lesson\n",
      "299 no such thing as too much forgiveness ::: know if me you he anything never why stupid can\n",
      "300  ::: know can never me not really why anything he job\n",
      "301 and love has seen me ::: \n",
      "302 through every misfortune ::: \n",
      "303  ::: \n"
     ]
    }
   ],
   "source": [
    "test_ws = wordseqs[test_stories[0]]\n",
    "test_words = test_ws.chunks()[trim[0]:-trim[1]]\n",
    "\n",
    "for i in xrange(ntrials_test):\n",
    "    nwds = (decoded_words[i,:]>0).sum()\n",
    "    word_ix = np.argsort(decoded_words[i,:])[::-1][:nwds]\n",
    "    print i, ' '.join(test_words[i]), ':::', ' '.join([basis_vocab[i] for i in word_ix][:10])"
   ]
  },
  {
   "cell_type": "markdown",
   "metadata": {},
   "source": [
    "-----\n",
    "# the challenge\n",
    "\n",
    "Now that you've got an idea for what decoding is and how you might go about it, your challenge is as pretty simple. Design a decoder that considerably outperforms our decoder and you win the prize! Train your decoder using the stimuli and responses for the following stories:\n",
    "- `alternateithicatom`\n",
    "- `avatar`\n",
    "- `howtodraw`\n",
    "- `legacy`\n",
    "- `life`\n",
    "- `myfirstdaywiththeyankees`\n",
    "- `naked`\n",
    "- `odetostepfather`\n",
    "- `souls`\n",
    "- `undertheinfluence`\n",
    "\n",
    "And decode the responses in  a prediction for the story we'll evaluate how well it performs on a held-out test story:\n",
    " - `TEST`\n",
    "\n",
    "**Please only use the test story to generate your submission. Do not peak at it to build your decoder.**\n",
    "\n",
    "# submission format\n",
    "Run your decoder on the responses stored in the `TEST` field of `responses.h5`. Produce a space-delimited text file in which each line contains the word predictions for a single time point. That is, the text file contains one line per row in the `TEST` response array. Include a blank line if your decoder predicts no output for a given time point. For clarity, we've provided an example submission called `GLABEXAMPLE_decoding_results.txt`\n",
    "\n",
    "Send an email to `robertg@berkeley.edu` with the subject \"`<team_name> 2016 IEEE HACKATHON SUBMISSION`\". Include as attachments the following files:\n",
    "- **`<team_name>_decoding_results.txt`**: the aforementioned space-delimited text file\n",
    "- **`README.txt`** (or `.pdf`, `.md` if you want to include images or formatting): a document containing a brief description of your approach\n",
    "\n",
    "# evaluation\n",
    "We'll evaluate the quality of your decoding using one quantitative and one qualitative method.\n",
    "\n",
    "### 1. Mean word embedding vector correlation\n",
    "We'll take the decoded words you submitted for the test story and transform them into the semantic word embedding space. We'll sum the vectors for each time point and compute the correlation coefficient between the summed vector with the semantic vector from the actual story."
   ]
  },
  {
   "cell_type": "code",
   "execution_count": 46,
   "metadata": {
    "ExecuteTime": {
     "end_time": "2016-10-05T16:41:13.422249",
     "start_time": "2016-10-05T16:41:13.057200"
    },
    "collapsed": false,
    "scrolled": true
   },
   "outputs": [
    {
     "data": {
      "image/png": "[encoded data removed]",
      "text/plain": [
       "<matplotlib.figure.Figure at 0x7fd3fa2233d0>"
      ]
     },
     "metadata": {},
     "output_type": "display_data"
    }
   ],
   "source": [
    "_ = plt.hist(decoding_perf[:-3], 25, histtype='step', lw=2)\n",
    "_ = plt.title('decoding test performance')\n",
    "_ = plt.xlabel('correlation coefficient, $r^2$')\n",
    "_ = plt.ylabel('number of time points')\n",
    "_ = plt.axvline(decoding_perf[:-3].mean(), color='k', linestyle='--', lw=1)"
   ]
  },
  {
   "cell_type": "markdown",
   "metadata": {},
   "source": [
    "### 2. Human rating\n",
    "We'll present human raters with the original passage and output from several submissions including our best and have them judge which of the submissions best matches to the meaning of the original passage."
   ]
  },
  {
   "cell_type": "markdown",
   "metadata": {},
   "source": [
    "# Resources\n",
    "Data and other resources used in this notebook are provided at the following file locations or urls:\n",
    "- [responses](https://berkeley.box.com/shared/static/znhnewml3snwwio48wkup06um9y6vl9y.h5)\n",
    "- stimuli (words) (`data/grids`)\n",
    " - align with responses using files in (`data/trfiles`)\n",
    "- [stimuli (features)](https://berkeley.box.com/shared/static/r0b65ge04ypym4xg4epe3yex9sfb2f53.h5)\n",
    "- 985 common english words vocabulary (`notebooks/basis_vocabulary.txt`)\n",
    "- [word2vec model](https://drive.google.com/file/d/0B7XkCwpI5KDYNlNUTTlSS21pQmM/edit?usp=sharing)\n",
    "- [example decoding model weights](https://berkeley.box.com/shared/static/7a9bey1qudhv2megh138sf5bzyni5rtm.h5)\n",
    "- [ridge regression code](https://github.com/alexhuth/ridge.git)"
   ]
  },
  {
   "cell_type": "code",
   "execution_count": null,
   "metadata": {
    "collapsed": true
   },
   "outputs": [],
   "source": []
  }
 ],
 "metadata": {
  "kernelspec": {
   "display_name": "Python 2",
   "language": "python",
   "name": "python2"
  },
  "language_info": {
   "codemirror_mode": {
    "name": "ipython",
    "version": 2
   },
   "file_extension": ".py",
   "mimetype": "text/x-python",
   "name": "python",
   "nbconvert_exporter": "python",
   "pygments_lexer": "ipython2",
   "version": "2.7.12"
  }
 },
 "nbformat": 4,
 "nbformat_minor": 0
}
